{
 "cells": [
  {
   "cell_type": "markdown",
   "metadata": {},
   "source": [
    "# Image Scraper For Model\n",
    "### Below is a simple image scraper\n",
    "### To install dependencies enter command presented below\n",
    "`pip install simple_image_download==0.4`\n",
    "***"
   ]
  },
  {
   "cell_type": "code",
   "execution_count": 8,
   "metadata": {},
   "outputs": [
    {
     "name": "stderr",
     "output_type": "stream",
     "text": [
      "[============                                                            ]  18%\r"
     ]
    }
   ],
   "source": [
    "from simple_image_download import simple_image_download as simp \n",
    "response=simp.simple_image_download\n",
    "keywords=[\"eggs\",\"rice\",\"cooked chicken\",\"samosas\",\"tortillas\",\"cookies\",\"pizza\",\"burger\",\"fries\",\"ice cream\",\"salad\",\"strawberries\",\"pineapple\",\"cantaloupe\"]\n",
    "for kw in keywords: \n",
    "    response().download(kw,2000)\n"
   ]
  }
 ],
 "metadata": {
  "kernelspec": {
   "display_name": "venv",
   "language": "python",
   "name": "python3"
  },
  "language_info": {
   "codemirror_mode": {
    "name": "ipython",
    "version": 3
   },
   "file_extension": ".py",
   "mimetype": "text/x-python",
   "name": "python",
   "nbconvert_exporter": "python",
   "pygments_lexer": "ipython3",
   "version": "3.11.6"
  }
 },
 "nbformat": 4,
 "nbformat_minor": 2
}
