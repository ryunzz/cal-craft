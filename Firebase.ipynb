{
 "cells": [
  {
   "cell_type": "markdown",
   "metadata": {},
   "source": [
    "# Firebase Scripts 🔥\n",
    "### Inputs all the data to the CalCraft database \n",
    "***"
   ]
  },
  {
   "cell_type": "code",
   "execution_count": 2,
   "metadata": {},
   "outputs": [],
   "source": [
    "import firebase_admin\n",
    "from firebase_admin import credentials\n",
    "from firebase_admin import db \n",
    "from firebase_admin import firestore\n",
    "firebase_admin.initialize_app(cred)\n",
    "cred = credentials.Certificate(\"firebasecred/calcraft-17854-firebase-adminsdk-44wni-637a37bf01.json\")\n",
    "db=firestore.client()\n",
    "doc_ref=db.collection(\"calcraft_carb_db\").document(\"ZWG3DrXfTYShDIB4RKrP\")\n",
    "\n"
   ]
  },
  {
   "cell_type": "code",
   "execution_count": 3,
   "metadata": {},
   "outputs": [
    {
     "name": "stdout",
     "output_type": "stream",
     "text": [
      "Column Names: Index(['Food Item', 'Carbohydrate Content (g)'], dtype='object')\n",
      "Dictionary created successfully:\n",
      "{'Texas FrenchToast': 23, 'Available Upon Request Gluten Free Rotini Pasta': 42, 'BrownBasmati Rice': 35, 'North African Bar': 20, 'SzechuanSweet ChiliSauce': 7, 'Steamed Rainbow Chard': 4, 'Creamy Polenta': 20, 'PorkPozole': 20, 'Char Siu Gardein': 10, 'BeyondtheBayou Meatless Meatloaf': 10, 'Potato Samosas': 20, 'Vegan Tortilla Soup': 20, 'Grilled Eggplant Wrapwith Tahini': 30, 'Falafels': 20, 'Buffalo Chicken Pizza': 30, 'Isla Managua Beef Sandwich': 30, 'Cornand Kidney Bean Medley': 20, 'Spicy Gardeinwith Garlic Basil': 10, 'Portuguese Sausageand Bean Soup': 20, 'Portobello MushroomPatty': 6, 'Halal Chicken Patty': 0, 'TaterTots': 18, 'Nutella Hazelnut Cheese Ring': 30, 'Roasted Brussels Sprouts': 6, 'Linguine Noodles': 42, 'Banh Mi Hot Dog': 30, 'BB Q Pork Ribs': 20, 'Strawberry Almond Cake': 40, 'Vegan Split Pea Soup': 20, 'Basmati Rice Pullao': 35, 'Creamy BroccoliCheddar Soup': 20, 'Sauteed Cauliflower Rice': 5, 'Sidewinder Fry': 22, 'CarrotCake': 30, 'House Baked Cinnamon Rolls': 50, 'Steak Cut Fries': 22, 'Baked Sweet Potato': 20, 'SweetSour MushroomSoup': 20, 'Roasted Yukon Gold Potatoes': 20, 'ChineseChicken Wings': 0, 'Artichoke Flatbreadwith Tomato Spinachand Goat Cheese': 30, 'Chicken Ortega Soup': 20, 'Wings Chicken': 0, 'Vegan Madras Curry': 20, 'Roma Pesto Pizza': 30, 'Bar RiceBowl': 35, 'Lemon Bars': 20, 'ChickenCorn Dogs': 20, 'Chicken Shawarma': 20, 'Chicken Tikka Masala': 20, 'B L T Pizza': 30, 'Vegan Chocolate Chip Cookie': 16, 'SauteedSeasonal Vegetables': 5, 'Marthas Asado De Boda': 10, 'Banana Walnut Muffin': 34, 'Tempeh Roastedwith Chorizo Spice': 6, 'Tofu Diablo': 5, 'Steamed Basmati Rice': 35, 'Grilled Chimichurri Tofu': 5, 'PortobelloPhilly Sandwich': 30, 'Chana Masala': 20, 'Nachos Bar': 25, 'Chicken Pho Noodle Bar': 42, 'Mocha ChipMuffin': 34, 'Dr Midnight Pacific Cookie Co Cookies': 16, 'Beefand Cheese Enchiladas': 30, 'Cheese Sauce': 3, 'Eggplant Bastia Wrap': 30, 'Herb Baked Chicken Breast': 0, 'Zaatar Chicken': 0, 'Lemon Poppyseed Muffin': 34, 'Greek Pizza': 30, 'Pita Bread': 15, 'Home Style Ground Beef Chili': 20, 'Steamed Bok Choy': 2, 'ChipotleChicken Pizza': 30, 'Falafel Wrap': 30, 'Vegan Oatmeal Raisin Cookie': 16, 'Turkey Burger': 23, 'Roasted Cauliflowerand Almond Salad': 10, 'Vegan Alfredo Sauce': 3, 'Bananaand Coconut Pancakes': 30, 'Cajun Bayou Bar': 20, 'Jasmine Rice': 35, 'Vegan Meatballs': 6, 'RoastedRed Potatoes': 20, 'Cajun Rice': 35, 'Original Naan': 30, 'Roasted Corn': 20, 'Dessert Special': 30, 'Roasted Vegetablesin Balsamic Mustard Vinaigrette': 10, 'Rice Krispy Treats': 20, 'Stir Fried Tofu and Green Beans': 10, 'Sauteed Mushrooms': 5, 'Spicy Gold Potatoes': 20, 'Cajun Coleslaw': 10, 'Condiments': 5, 'Cinnamon Raisin French Toast': 30, 'BAR Yakisoba Noodles': 50, 'Thai Chicken Pizza': 40, 'Cilantro Flatbread with Red Onions and Mushrooms': 30, 'Beef and Lamb Gyro with Peppers Onion': 30, 'Apricot Cake': 45, 'Chocolate Chip Pancakes': 45, 'Pumpkin Muffin': 25, 'Chocolate Chip Bread Pudding': 60, 'Tempeh Roasted with Salt': 10, 'Stir Fry Tofu and Vegetables': 15, 'Tuscan Grilled Cheese Sandwich': 40, 'Lime Ginger Sauce': 5, 'Chicken Vindaloo': 25, 'Veggie Supreme Pizza': 40, 'White Beans': 20, 'Sauteed Garlic Kale': 10, 'Gyro Pizza': 40, 'Garden Vegetable Soup': 15, 'Vegan Vegetable Pizza': 40, 'Combo Meat Pizza': 40, 'Masala Baked Tofu': 15, 'Vegan Blackberry Turnovers': 25, 'Sauteed Rainbow Chard with Garlic Oil': 5, 'White Corn Tortillas': 15, 'Baked Sole with Brown Butter Garlic and Tomato': 10, 'Classic Burger Banana Joes': 40, 'BBQ Tempeh': 15, 'Chicken Apple Sausage': 5, 'Taqueria Chicken': 10, 'Spicy Cajun Gravy': 5, 'Char Siu Chicken': 10, 'Vegan Collard Greens': 5, 'Tzatziki Sauce': 3, 'Green Beans with Mushrooms and Caramelized Onions': 10, 'Natural Bridges Tofu Scramble': 10, 'French Fries': 30, 'Vegan Spinach and Roasted Garlic Pizza': 40, 'Quinoa and Mushroom Pilaf': 30, 'Penne': 25, 'Baked Beans': 20, 'Three Sisters Crave Soup': 15, 'Pizza Special': 40, 'Char Siu Sauce': 5, 'Cilantro Lime Rice Cauliflower': 10, 'Vegan Happy Scramble': 10, 'Salsa Roja Kogi Style': 5, 'Italian Roasted Tofu': 10, 'Fresh Celery Sticks': 1, 'Tofu with Basil and Lime': 10, 'Chicken Enchiladas Verdes': 30, 'Grilled Huli Huli Chicken': 5, 'Au Gratin Potatoes': 30, 'Beef Pho Noodle Bar': 20, 'Island Beef Steak': 5, 'Zucchini Bread': 30, 'Orange French Toast': 30, 'Hawaiian Pizza': 40, 'Crumbled Bacon': 0, 'Curly Fries': 30, 'Grilled Tri Tip with Garlic and Pepper': 5, 'Caramelized Chipotle Tofu': 10, 'Cajun Rice with Red Beans': 45, 'Avocado Bacon Cheddar Burger': 3, 'Breaded Pork Chops': 10, 'Ham Steaks': 0, 'Hearty Beef Chili': 15, 'Portobello Mushroom Burger Hawaiian Style': 6, 'Spicy Arrabbiata Sauce': 7, 'Hardboiled Cage Free Egg': 1, 'Vegan Malibu Burger Patty': 2, 'Teriyaki Turkey Burger Bar': 10, 'Oven Roasted Herbed Potatoes': 26, 'Gluten Free Korean BBQ Sauce': 5, 'Fresh Carrot Sticks': 10, 'Cajun Lightning Chicken': 8, 'Chesapeake Bay Baked Catfish': 0, 'Cauliflower Lentil Dal': 20, 'Lemon Herbed Orzo': 40, 'Black Beans with Cumin Spice': 20, 'Regular Cut Fries': 35, 'Bar Indian': 0, 'Stir Fry Vegetables': 10, 'Deli Bar': 0, 'BAR Street Taco': 15, 'New England Clam Chowder': 16, 'Marinara Sauce': 8, 'Beef Frank': 2, 'Chicken and Pork Sausage Gumbo': 15, 'Cajun Roasted Red Potatoes': 30, 'Lasagna Bolognese': 35, 'Vegan Refried Beans': 24, 'Grilled Reuben Sandwich': 48, 'Stir Fried Pork and Green Beans': 8, 'Roasted Eggplant': 5, 'Turkey Noodle Soup': 10, 'Hot Dog Vegan': 2, 'Sriracha Aioli': 1, 'Italian Meatball Sandwich': 40, 'Italian Roasted Squash and Carrots': 10, 'Beef and Lamb Gyro': 24, 'Lime Cilantro Basmati Rice': 45, 'Pho Rice Noodle': 44, 'Roasted Corn Salad': 20, 'Hersheys Pancakes': 38, 'Cornmeal Crusted Catfish': 8, 'Mad Dogs Jamaican Rockfish from Monterey Bay': 0, 'Artichoke Roasted Garlic Pizza': 35, 'Spam Fried Rice': 40, 'Lemon Loaf': 55, 'Jalapeno Lime Shrimp': 5, 'Chicken Tender Sandwich Banana Joes': 40, 'Xochitl Soup': 15, 'Chicken Pozole': 25, 'Green Onion Slaw': 10, 'Harissa Tofu': 10, 'Authentic Spanish Rice': 45, 'BBQ Ginger Soy Tofu': 12, 'Bolognese Sauce': 10, 'Gardein and Broccoli Stir Fry': 20, 'Baked Potatoes': 37, 'Chocolate Mocha Cake': 50, 'Vegan Brownie': 35, 'Chickpea Harira': 20, 'Steamed Carrots and Broccoli': 10, 'Housemade Creamy Alfredo Sauce': 8, 'Buffalo Cauliflower': 15, 'Taqueria Ground Beef': 0, 'Baja Fish For Tacos': 2, 'BBQ Ginger Soy Beef': 12, 'Hawaiian Coleslaw': 15, 'Savory Cheese Grits': 20, 'Chicken Tamales': 25, 'Thai Red Curry Beef': 12, 'Spicy North African Chicken Soup': 15, 'Shredded Hash Browns': 30, 'Garlic Thyme Mushrooms': 5, 'French Toast Sticks': 30, 'Tempeh Black Bean and Potato Hash': 25, 'Tuscan Bean Mushroom': 20, \"Vegan Chick'n Caesar Wrap\": 30, 'Gyro Bar': 0, 'Steamed Green Beans': 5, 'Biscuit and Gravy': 30, 'Hamburger Bun': 20, 'Apple Cinnamon Muffin': 30, 'Sweet Potato Black Bean and Kale Hash': 25, 'Chicken Noodle Soup': 10, 'A B C Burger Banana Joes': 40, 'Quinoa with Butternut Squash and Kale': 35, 'Tofu Fried Rice': 40, 'Banh Mi Vegan Hot Dog': 30, 'Dal Saag': 20, 'Sauteed Onions and Peppers': 10, 'Vegan Hawaiian Macaroni Salad': 30, \"Potatoes O'Brien\": 25, 'Sausage Links': 2, 'Braised Toscano Potatoes': 26, 'Thai Coconut Curry Chicken Soup': 12, 'Teriyaki Glazed Wings': 15, 'Tofu Vindaloo': 10, 'Chickpea Curry with Tomato and Kale': 22, 'Sausage and Onion Pizza': 35, 'Pesto Chicken Sandwich': 40, 'Roasted Cauliflower': 5, 'Harissa Roasted Chicken': 0, 'Happy Plant Vegan Chorizo Crumbles and Potatoes': 25, 'Buttermilk Pancakes': 30, 'Turkey Bacon': 0, 'Charro Beans': 20, 'Buttermilk Pancake with Cinnamon Apples': 35, 'Turkey Gravy': 3, 'Sugar Cookie': 28, 'Steamed Broccoli': 6, 'Vegan Garlic Mashed Potatoes': 20, 'Hanalei Pizza with Chicken and Bacon': 38, 'Vegan Mushroom Gravy': 4, 'Hot Dog Bun': 20, 'Lentil Lemon Soup': 18, 'Pepperoni Pizza': 35, 'Tofu For Pho': 1, 'Organic Gluten Free Oatmeal': 30, 'Cumin Roasted Carrot': 10, 'Vegan Spicy Garbanzo Curry': 22, 'Corn Tortillas': 20, 'Three Berry Muffin': 30, 'Roasted Turkey Breast with Honey Dijon Sauce': 2, 'Lemon Poppy Seed Cake': 50, 'Vietnamese Pho Broth': 2, 'Pico de Gallo Salsa': 4, 'Vegan Chile Verde': 12, 'Vegan Peach Cobbler': 45, 'Pizza with Gochujang BBQ Chicken': 38, 'Triangle Hash Brown Patty': 30, 'Scalloped Potatoes': 22, 'Teriyaki Sauce Gluten Free': 6, 'Couscous Tomato Salad': 25, 'Harissa Potatoes': 20, 'Mexican Rice': 28, 'Tabouleh Salad': 18, 'Creamy Mashed Yukon Golds': 30, 'Steamed Rice': 30, 'Cheese Tortellini': 35, 'Crinkle Cut Fries': 35, 'Grilled Balsamic Tofu': 4, 'Cage Free Scrambled Eggs': 1, 'Roasted Kale and Butternut Squash': 15, 'Vegan Macaroni Cheese': 30, 'Red Curry Tofu': 10, 'Black Rice Beet and Kale Salad': 20, 'Roasted Green Beans in Garlic Oil': 10, 'Chicken Rice Soup': 15, 'Thai Tofu Scramble': 10, 'Apple Pie': 35, 'Chicken Enchilada Casserole': 30, 'Tempeh Roasted in Sesame Oil': 8, 'Malibu Burger': 30, \"Chipotle Vegan Chik'n Strips\": 5, 'Orange Cranberry Scone': 30, 'Focaccia Pizza with Basil Pesto': 35, 'Garlic Mashed Potatoes': 30, 'Grilled Tuscan Turkey Sandwich': 40, 'Macaroni Cheese': 30, 'Vegan Tenders': 15, 'Organic Kale and Sweet Potato Soup': 20, 'Vegan Fiesta Salad': 10, 'Flour Tortilla': 15, 'Cheese Pizza': 35, 'Brownie M&M': 50, 'Black Beans with Garlic': 20, 'BBQ Tofu': 10, 'Halal Beef Patty': 0, 'Mac Cheese Bar Condiments': 'Varies', 'Chili Soy Slaw': 10, 'Vegan Corn and Veggie Tamale': 25, 'Cajun Lentil Soup': 15, 'Italian Fennel Chicken': 0, 'Nacho Tots Bar': 0, 'Steamed Broccolini': 5, 'Bakery Coconut Almond Magic Bar': 30, 'Sushi Rice': 40, 'Belgian Waffle Squares': 35, 'Tahini Sauce': 3, 'Pineapple Fried Rice': 35, 'Cilantro Slaw': 5, 'Chicken Sofrito': 10, 'Cheesy Garlic Bread Sticks': 30, 'BBQ Pulled Pork Sandwich': 35, 'Sausage and Mushroom Pizza': 36, 'Black Bean Corn Salsa': 20, 'Nasi Goreng Fried Rice': 40, 'B A R Worldly Wings': 5, 'Hawaiian Baked Beans': 30, 'Sustainable Lemon Pepper Pacific Rockfish': 0, 'Maple Pecan Muffin': 30, 'Marble Cake': 40, 'Zhoug Jalapeno Cilantro Salsa': 3, 'Banana Cream Pie': 50, 'Whole Wheat Vegan Blueberry Pancakes': 30, 'Sesame Yakisoba Noodles': 40, 'Chipotle Lime Pork Loin': 2, 'Portobello Mushroom Cheese Steak': 20, 'Peach Crunch Muffin': 28, 'Sweet Potato Fries': 35, 'Peruvian Bar': 0, 'Artichoke Pesto Turkey Burger': 25, 'Beef Steak Picado': 3, 'Baja Taco Bar': 0, 'Tofu Diablo on Linguine': 35, 'Bobs Red Mill Gluten Free Pancakes': 30, 'Kalua Pork': 0, 'Teriyaki Tofu': 10, 'Bacon and Asparagus Pizza': 35, 'Mac and Cheese Bar': 0, 'Caramelized Chipotle Chicken': 5, 'B A R Wings': 5, 'Lemon Blueberry Muffin': 30, 'Grilled Pineapple Rings': 15, 'Bar Taqueria': 0, 'Tortilla Chips': 20, 'Vegan Apple Cranberry Pie': 45, 'Southwest Turkey Sandwich': 40, 'Mexican Chocolate Cookie': 25, 'Happy Plant Tostada': 20, 'Cilantro Lemon Rice': 30, 'Chicken Tenders': 10, 'Caramelized Onions': 10, 'Monterey Rockfish with Avocado Chimichurri': 1, 'Bar Pasta': 0, 'Bacon Cheeseburger': 30, 'Bombay Chicken Pizza': 35, 'Couscous Red Grain And Vegetable Salad': 25, 'Rodeo Burger': 30, 'Organic Vegan Chili': 20, 'Kalua Pork Slider': 20, 'Madras Chicken': 5, 'Asian Spicy Chicken Pizza': 35, 'Mashed Potato Bowl Bar': 0, 'Roasted Sweet Potatoes': 20, 'Roasted Balsamic Vegetables': 15, 'Brown Rice Pilaf': 30, 'Thai Style Sustainable Pacific Rockfish': 0, 'Cheese Quesadilla': 30, 'Apple Strudel': 35, 'British Burger': 30, 'Mint Condition': 0, 'Wing Bar': 0, 'Papas Bravas': 25, 'Mexican Chorizo Sausage': 2, 'Potato Leek Soup': 15, 'Tomato Soup': 18, 'Beef For Pho': 0, 'Taqueria Beef Birria de Marta': 0, 'Lemon Pepper Chicken Wings': 5, 'Baked Salmon with Garlic Butter': 0, 'Sustainably Caught Rockfish Puttanesca': 5, 'Farfalle with Olives and Tomatoes': 35, 'Quiche Alsace with Ham': 20, 'Steamed Brown Rice': 30, 'Roasted Zucchini and Peppers': 5, 'Asian Pork Spareribs': 10, 'Spicy Red Beans and Vegetables': 20, 'Miso Glazed Salmon': 5, 'Hawaiian Bar': 0, 'Herbed Lentils': 20, 'Coconut Syrup': 15, 'Blueberry Scone': 30, 'Sausage Andouille': 2, 'Orange Cranberry Muffin': 30, 'Crispy Bacon': 0, 'Harissa BBQ Beef': 3, 'Middle East Apple Roasted Chicken': 5, 'Spicy Shrimp Fra Diavolo': 5, 'Bacon Cheeseburger Meatloaf': 5, 'Organic Black Bean Soup': 20}\n"
     ]
    }
   ],
   "source": [
    "import pandas as pd\n",
    "\n",
    "def excel_to_dict(file_path, sheet_name):\n",
    "    try:\n",
    "        # Read the Excel sheet into a pandas DataFrame\n",
    "        df = pd.read_excel(file_path, sheet_name=sheet_name)\n",
    "\n",
    "        # Print the column names to help identify them\n",
    "        print(\"Column Names:\", df.columns)\n",
    "\n",
    "        # Assuming your columns are A and B\n",
    "        key_column = 'Food Item'\n",
    "        value_column = 'Carbohydrate Content (g)'\n",
    "\n",
    "        # Convert the specified columns into a dictionary\n",
    "        data_dict = dict(zip(df[key_column], df[value_column]))\n",
    "\n",
    "        return data_dict\n",
    "\n",
    "    except Exception as e:\n",
    "        print(f\"Error: {e}\")\n",
    "        return None\n",
    "\n",
    "# Example usage\n",
    "file_path = 'Dataset_calcraft.xlsx'\n",
    "sheet_name = 'Sheet1'  # Change to your sheet name\n",
    "\n",
    "result_dict = excel_to_dict(file_path, sheet_name)\n",
    "\n",
    "if result_dict:\n",
    "    print(\"Dictionary created successfully:\")\n",
    "    print(result_dict)\n",
    "else:\n",
    "    print(\"Failed to create dictionary.\")\n",
    "f=open(\"Firebase_dict.txt\",'w+')"
   ]
  },
  {
   "cell_type": "code",
   "execution_count": 4,
   "metadata": {},
   "outputs": [
    {
     "data": {
      "text/plain": [
       "12338"
      ]
     },
     "execution_count": 4,
     "metadata": {},
     "output_type": "execute_result"
    }
   ],
   "source": [
    "f=open(\"Firebase_dict.txt\",'w+')\n",
    "f.write(str(result_dict))"
   ]
  },
  {
   "cell_type": "code",
   "execution_count": 5,
   "metadata": {},
   "outputs": [
    {
     "data": {
      "text/plain": [
       "update_time {\n",
       "  seconds: 1699688535\n",
       "  nanos: 52005000\n",
       "}"
      ]
     },
     "execution_count": 5,
     "metadata": {},
     "output_type": "execute_result"
    }
   ],
   "source": [
    "doc_ref.set(result_dict)"
   ]
  }
 ],
 "metadata": {
  "kernelspec": {
   "display_name": "venv",
   "language": "python",
   "name": "python3"
  },
  "language_info": {
   "codemirror_mode": {
    "name": "ipython",
    "version": 3
   },
   "file_extension": ".py",
   "mimetype": "text/x-python",
   "name": "python",
   "nbconvert_exporter": "python",
   "pygments_lexer": "ipython3",
   "version": "3.11.6"
  }
 },
 "nbformat": 4,
 "nbformat_minor": 2
}
