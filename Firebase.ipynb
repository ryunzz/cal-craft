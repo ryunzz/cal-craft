{
 "cells": [
  {
   "cell_type": "markdown",
   "metadata": {},
   "source": [
    "# Firebase Scripts 🔥\n",
    "### Inputs all the data to the CalCraft database \n",
    "***"
   ]
  },
  {
   "cell_type": "code",
   "execution_count": null,
   "metadata": {},
   "outputs": [],
   "source": [
    "import firebase_admin\n",
    "from firebase_admin import credentials\n",
    "from firebase_admin import db \n",
    "from firebase_admin import firestore\n",
    "firebase_admin.initialize_app(cred)\n",
    "cred = credentials.Certificate(\"firebasecred/calcraft-17854-firebase-adminsdk-44wni-637a37bf01.json\")\n",
    "db=firestore.client()\n",
    "doc_ref=db.collection(\"calcraft_carb_db\").document(\"ZWG3DrXfTYShDIB4RKrP\")\n",
    "\n"
   ]
  },
  {
   "cell_type": "code",
   "execution_count": null,
   "metadata": {},
   "outputs": [],
   "source": [
    "import pandas as pd\n",
    "\n",
    "def excel_to_dict(file_path, sheet_name):\n",
    "    try:\n",
    "        # Read the Excel sheet into a pandas DataFrame\n",
    "        df = pd.read_excel(file_path, sheet_name=sheet_name)\n",
    "\n",
    "        # Print the column names to help identify them\n",
    "        print(\"Column Names:\", df.columns)\n",
    "\n",
    "        # Assuming your columns are A and B\n",
    "        key_column = 'Food Item'\n",
    "        value_column = 'Carbohydrate Content (g)'\n",
    "\n",
    "        # Convert the specified columns into a dictionary\n",
    "        data_dict = dict(zip(df[key_column], df[value_column]))\n",
    "\n",
    "        return data_dict\n",
    "\n",
    "    except Exception as e:\n",
    "        print(f\"Error: {e}\")\n",
    "        return None\n",
    "\n",
    "# Example usage\n",
    "file_path = 'Dataset_calcraft.xlsx'\n",
    "sheet_name = 'Sheet1'  # Change to your sheet name\n",
    "\n",
    "result_dict = excel_to_dict(file_path, sheet_name)\n",
    "\n",
    "if result_dict:\n",
    "    print(\"Dictionary created successfully:\")\n",
    "    print(result_dict)\n",
    "else:\n",
    "    print(\"Failed to create dictionary.\")\n",
    "f=open(\"Firebase_dict.txt\",'w+')"
   ]
  },
  {
   "cell_type": "code",
   "execution_count": null,
   "metadata": {},
   "outputs": [],
   "source": [
    "f=open(\"Firebase_dict.txt\",'w+')\n",
    "f.write(str(result_dict))"
   ]
  },
  {
   "cell_type": "code",
   "execution_count": null,
   "metadata": {},
   "outputs": [],
   "source": [
    "doc_ref.set(result_dict)"
   ]
  }
 ],
 "metadata": {
  "kernelspec": {
   "display_name": "venv",
   "language": "python",
   "name": "python3"
  },
  "language_info": {
   "codemirror_mode": {
    "name": "ipython",
    "version": 3
   },
   "file_extension": ".py",
   "mimetype": "text/x-python",
   "name": "python",
   "nbconvert_exporter": "python",
   "pygments_lexer": "ipython3",
   "version": "3.11.6"
  }
 },
 "nbformat": 4,
 "nbformat_minor": 2
}
